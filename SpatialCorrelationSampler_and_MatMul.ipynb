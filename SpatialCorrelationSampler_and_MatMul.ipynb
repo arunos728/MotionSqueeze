{
 "cells": [
  {
   "cell_type": "code",
   "execution_count": 1,
   "metadata": {},
   "outputs": [],
   "source": [
    "import torch\n",
    "import torch as tr\n",
    "import torch.nn as nn\n",
    "import torch.nn.functional as F\n",
    "import numpy as np\n",
    "from spatial_correlation_sampler import SpatialCorrelationSampler"
   ]
  },
  {
   "cell_type": "code",
   "execution_count": 2,
   "metadata": {},
   "outputs": [],
   "source": [
    "batch = 1\n",
    "channel = 4\n",
    "patch_size = 5\n",
    "height = 14\n",
    "width = 14\n",
    "\n",
    "input1 = torch.randn(batch,\n",
    "                     channel,\n",
    "                     height,\n",
    "                     width,\n",
    "                     dtype=torch.float32,\n",
    "                     requires_grad=True).cuda()\n",
    "input2 = torch.randn_like(input1).cuda()"
   ]
  },
  {
   "cell_type": "code",
   "execution_count": 3,
   "metadata": {},
   "outputs": [],
   "source": [
    "def corr_abs_to_rel(corr,h,w):\n",
    "    max_d = patch_size // 2\n",
    "        \n",
    "    b,c,s = corr.size()        \n",
    "    corr = corr.view(b,h,w,h,w)\n",
    "    w_diag = tr.zeros((b,h,h,patch_size ,w),device='cuda')\n",
    "    for i in range(max_d+1):\n",
    "        if (i==0):\n",
    "            w_corr_offset = tr.diagonal(corr,offset=0,dim1=2,dim2=4)       \n",
    "            w_diag[:,:,:,max_d] = w_corr_offset\n",
    "        else:\n",
    "            w_corr_offset_pos = tr.diagonal(corr,offset=i,dim1=2,dim2=4) \n",
    "            w_corr_offset_pos = F.pad(w_corr_offset_pos, (i,0)) #.unsqueeze(5)\n",
    "            w_diag[:,:,:,max_d-i] = w_corr_offset_pos\n",
    "            w_corr_offset_neg = tr.diagonal(corr,offset=-i,dim1=2,dim2=4) \n",
    "            w_corr_offset_neg = F.pad(w_corr_offset_neg, (0,i)) #.unsqueeze(5)\n",
    "            w_diag[:,:,:,max_d+i] = w_corr_offset_neg\n",
    "    hw_diag = tr.zeros((b,patch_size ,w,patch_size ,h),device='cuda') \n",
    "    for i in range(max_d+1):\n",
    "        if (i==0):\n",
    "            h_corr_offset = tr.diagonal(w_diag,offset=0,dim1=1,dim2=2)\n",
    "            hw_diag[:,:,:,max_d] = h_corr_offset\n",
    "        else:\n",
    "            h_corr_offset_pos = tr.diagonal(w_diag,offset=i,dim1=1,dim2=2) \n",
    "            h_corr_offset_pos = F.pad(h_corr_offset_pos, (i,0)) #.unsqueeze(5)\n",
    "            hw_diag[:,:,:,max_d-i] = h_corr_offset_pos\n",
    "            h_corr_offset_neg = tr.diagonal(w_diag,offset=-i,dim1=1,dim2=2) \n",
    "            h_corr_offset_neg = F.pad(h_corr_offset_neg, (0,i)) #.unsqueeze(5)      \n",
    "            hw_diag[:,:,:,max_d+i] = h_corr_offset_neg                \n",
    "    hw_diag = hw_diag.permute(0,3,1,4,2).contiguous()\n",
    "    hw_diag = hw_diag.view(-1,patch_size *patch_size ,h*w)      \n",
    "        \n",
    "    return hw_diag"
   ]
  },
  {
   "cell_type": "code",
   "execution_count": 5,
   "metadata": {},
   "outputs": [],
   "source": [
    "relu = nn.ReLU()\n",
    "def L2normalize(x, d=1):\n",
    "    eps = 1e-6\n",
    "    norm = x ** 2\n",
    "    norm = norm.sum(dim=d, keepdim=True) + eps\n",
    "    norm = norm ** (0.5)\n",
    "    return (x / norm)\n",
    "\n",
    "def match_layer_mm(feature1, feature2):\n",
    "    feature1 = L2normalize(feature1)\n",
    "    feature2 = L2normalize(feature2)\n",
    "    b, c, h1, w1 = feature1.size()\n",
    "    b, c, h2, w2 = feature2.size()\n",
    "    feature1 = feature1.view(b, c, h1 * w1)\n",
    "    feature2 = feature2.view(b, c, h2 * w2)\n",
    "#     corr =tr.einsum('abc,abd->adc',feature1,feature2)\n",
    "#     corr = torch.matmul(feature2.transpose(1, 2), feature1) \n",
    "    corr = torch.bmm(feature2.transpose(1, 2), feature1)\n",
    "    corr = corr.view(b, h2 * w2, h1 * w1) # Channel : target // Spatial grid : source\n",
    "    corr = corr_abs_to_rel(corr,height,width).cuda() # (b,pp,hw)\n",
    "    corr = relu(corr)\n",
    "    return corr\n",
    "\n",
    "correlation_sampler = SpatialCorrelationSampler(\n",
    "    kernel_size=1,\n",
    "    patch_size=patch_size ,\n",
    "    stride=1,\n",
    "    padding=0,\n",
    "    dilation_patch=1)\n",
    "def match_layer_scs(feature1, feature2):\n",
    "    feature1 = L2normalize(feature1)\n",
    "    feature2 = L2normalize(feature2)\n",
    "    b, c, h1, w1 = feature1.size()\n",
    "    b, c, h2, w2 = feature2.size()\n",
    "    \n",
    "    corr = correlation_sampler(feature1,feature2)  # (b,p,p,h,w)\n",
    "    corr = corr.view(b,-1,h1*w1)\n",
    "    corr = relu(corr)\n",
    "    return corr"
   ]
  },
  {
   "cell_type": "code",
   "execution_count": 6,
   "metadata": {},
   "outputs": [
    {
     "name": "stdout",
     "output_type": "stream",
     "text": [
      "torch.Size([1, 25, 196]) torch.Size([1, 25, 196])\n",
      "True\n"
     ]
    }
   ],
   "source": [
    "corr_mm = match_layer_mm(input1,input2)\n",
    "corr_scs = match_layer_scs(input1,input2)\n",
    "print (corr_mm.size(), corr_scs.size())\n",
    "\n",
    "print (torch.allclose(corr_mm,corr_scs,atol=10e-6))\n",
    "# print (corr_mm[0,0], corr_scs[0,0])"
   ]
  }
 ],
 "metadata": {
  "kernelspec": {
   "display_name": "Python 3",
   "language": "python",
   "name": "python3"
  },
  "language_info": {
   "codemirror_mode": {
    "name": "ipython",
    "version": 3
   },
   "file_extension": ".py",
   "mimetype": "text/x-python",
   "name": "python",
   "nbconvert_exporter": "python",
   "pygments_lexer": "ipython3",
   "version": "3.6.8"
  }
 },
 "nbformat": 4,
 "nbformat_minor": 4
}
